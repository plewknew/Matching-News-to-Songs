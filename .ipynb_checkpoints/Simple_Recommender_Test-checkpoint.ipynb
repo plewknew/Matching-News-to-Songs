{
 "cells": [
  {
   "cell_type": "code",
   "execution_count": null,
   "metadata": {},
   "outputs": [],
   "source": [
    "import numpy as np\n",
    "import pandas as pd\n",
    "import matplotlib.pyplot as plt\n",
    "import seaborn as sns"
   ]
  },
  {
   "cell_type": "code",
   "execution_count": null,
   "metadata": {},
   "outputs": [],
   "source": [
    "direct =r'C:\\Users\\palewis\\Documents\\M&A\\Recommendation_Test\\ml-latest-small'\n",
    "df_ratings = pd.read_csv(direct+'/ratings.csv', header=0)"
   ]
  },
  {
   "cell_type": "code",
   "execution_count": null,
   "metadata": {},
   "outputs": [],
   "source": [
    "df_movies = pd.read_csv(direct+'/movies.csv', header=0)"
   ]
  },
  {
   "cell_type": "code",
   "execution_count": null,
   "metadata": {},
   "outputs": [],
   "source": [
    "direct =r'C:\\Users\\palewis\\Documents\\M&A\\Recommendation_Test\\ml-latest-small'\n",
    "df_ratings = pd.read_csv(direct+'/ratings.csv', header=0)\n",
    "df_movies = pd.read_csv(direct+'/movies.csv', header=0)\n",
    "df_merged = pd.merge(df_ratings, df_movies, on='movieId')"
   ]
  },
  {
   "cell_type": "code",
   "execution_count": null,
   "metadata": {},
   "outputs": [],
   "source": [
    "def simple_recommender(input_dataframe,similarity_measure,input_item,item_field_name, user_field_name):\n",
    "    \n",
    "    #\n",
    "    ratings = pd.DataFrame(input_dataframe.groupby(item_field_name)[similarity_measure].mean())\n",
    "    ratings['no_of_ratings'] = input_dataframe.groupby(item_field_name)[similarity_measure].count()\n",
    "    \n",
    "    #\n",
    "    user_item_rating = input_dataframe.pivot_table(index=user_field_name, columns=item_field_name, values=similarity_measure)  \n",
    "    user_item_rating_input = user_item_rating[input_item]\n",
    "    \n",
    "    #\n",
    "    users_like_input = pd.DataFrame(user_item_rating.corrwith(user_item_rating_input),columns = ['Correlation'])\n",
    "    users_like_input.dropna(inplace=True)\n",
    "    users_like_input = users_like_input.join(ratings['no_of_ratings'])\n",
    "    \n",
    "    #\n",
    "    users_like_input_50plus = users_like_input[users_like_input['no_of_ratings']>50]\n",
    "    return users_like_input_50plus.sort_values('Correlation', ascending = False)[0:20]"
   ]
  },
  {
   "cell_type": "code",
   "execution_count": null,
   "metadata": {},
   "outputs": [],
   "source": [
    "top20_similar = simple_recommender(df_merged,'rating','Toy Story (1995)','title','userId')\n",
    "top20_similar.head()"
   ]
  }
 ],
 "metadata": {
  "kernelspec": {
   "display_name": "Python 3",
   "language": "python",
   "name": "python3"
  },
  "language_info": {
   "codemirror_mode": {
    "name": "ipython",
    "version": 3
   },
   "file_extension": ".py",
   "mimetype": "text/x-python",
   "name": "python",
   "nbconvert_exporter": "python",
   "pygments_lexer": "ipython3",
   "version": "3.7.1"
  }
 },
 "nbformat": 4,
 "nbformat_minor": 2
}
