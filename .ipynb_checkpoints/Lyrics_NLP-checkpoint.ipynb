{
 "cells": [
  {
   "cell_type": "code",
   "execution_count": null,
   "metadata": {},
   "outputs": [],
   "source": [
    "import numpy as np\n",
    "import pandas as pd\n",
    "import matplotlib.pyplot as plt\n",
    "import seaborn as sns\n",
    "from newspaper import Article\n",
    "from sklearn.feature_extraction.text import TfidfTransformer\n",
    "from sklearn.feature_extraction.text import TfidfVectorizer\n",
    "from nltk.corpus import stopwords\n",
    "from sklearn.feature_extraction.text import CountVectorizer"
   ]
  },
  {
   "cell_type": "code",
   "execution_count": null,
   "metadata": {},
   "outputs": [],
   "source": [
    "#First we want to import the particular article that we want\n",
    "article = Article('https://www.cbc.ca/news/world/cocaine-bust-philadelphia-ship-1.5180447')\n",
    "article.download()\n",
    "article.parse()\n",
    "article_text=article.text"
   ]
  },
  {
   "cell_type": "code",
   "execution_count": null,
   "metadata": {},
   "outputs": [],
   "source": [
    "#now the at we have the songs in, we should drop all stop words, get rid of the /n, and drop any nans\n",
    "i=0\n",
    "\n",
    "for i in range(len(df_song_lyrics)):\n",
    "    df_song_lyrics[i] = df_song_lyrics[i].replace('\\n', ' ')"
   ]
  },
  {
   "cell_type": "code",
   "execution_count": null,
   "metadata": {},
   "outputs": [],
   "source": [
    "stemmer = EnglishStemmer()\n",
    "analyzer = CountVectorizer().build_analyzer()\n",
    "\n",
    "def stemmed_words(document):\n",
    "    return (stemmer.stem(x) for x in analyzer(document))"
   ]
  },
  {
   "cell_type": "code",
   "execution_count": null,
   "metadata": {},
   "outputs": [],
   "source": [
    "rds = 'english', analyzer=stemmed_words,min_df = 5, max_df=0.9)\n",
    "cv_stemmed_lyrics=cv_stemmed.fit(df_song_lyrics)\n",
    "cv_stemmed_lyrics=cv_stemmed.transform(df_song_lyrics)\n",
    "cv_stemmed_lyrics.shape"
   ]
  },
  {
   "cell_type": "code",
   "execution_count": null,
   "metadata": {},
   "outputs": [],
   "source": [
    "vectorizer = TfidfTransformer()\n",
    "# tokenize and build vocab\n",
    "vectorizer.fit(cv_stemmed_lyrics)\n",
    "tf_idf_lyrics_vector = vectorizer.transform(cv_stemmed_lyrics)"
   ]
  },
  {
   "cell_type": "code",
   "execution_count": null,
   "metadata": {},
   "outputs": [],
   "source": [
    "# summarize\n",
    "df_idf = pd.DataFrame(vectorizer.idf_, index=cv_stemmed.get_feature_names(),columns=[\"tf_idf_weights\"])\n",
    "print(tf_idf_lyrics_vector.shape)\n",
    "print(df_idf.sort_values(by=['tf_idf_weights'])[::-1][0:20])"
   ]
  },
  {
   "cell_type": "code",
   "execution_count": null,
   "metadata": {},
   "outputs": [],
   "source": [
    "# summarize\n",
    "df_idf = pd.DataFrame(vectorizer.idf_, index=cv_stemmed.get_feature_names(),columns=[\"tf_idf_weights\"])\n",
    "print(tf_idf_lyrics_vector.shape)\n",
    "print(df_idf.sort_values(by=['tf_idf_weights'])[::-1][0:20])\n",
    "print(df_idf.sort_values(by=['tf_idf_weights'])[0:20])"
   ]
  },
  {
   "cell_type": "code",
   "execution_count": null,
   "metadata": {},
   "outputs": [],
   "source": [
    "cv_stemmed_article = cv_stemmed.transform(list(article_text))\n",
    "tf_idf_article_vector = vectorizer.transform(cv_stemmed_article)\n",
    "print(tf_idf_article_vector.shape)"
   ]
  }
 ],
 "metadata": {
  "kernelspec": {
   "display_name": "Python 3",
   "language": "python",
   "name": "python3"
  },
  "language_info": {
   "codemirror_mode": {
    "name": "ipython",
    "version": 3
   },
   "file_extension": ".py",
   "mimetype": "text/x-python",
   "name": "python",
   "nbconvert_exporter": "python",
   "pygments_lexer": "ipython3",
   "version": "3.7.1"
  }
 },
 "nbformat": 4,
 "nbformat_minor": 2
}
