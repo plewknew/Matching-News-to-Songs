{
 "cells": [
  {
   "cell_type": "code",
   "execution_count": 1,
   "metadata": {},
   "outputs": [],
   "source": [
    "import numpy as np\n",
    "import pandas as pd\n",
    "import matplotlib.pyplot as plt\n",
    "import seaborn as sns\n",
    "from newspaper import Article\n",
    "from nltk.corpus import stopwords\n",
    "from sklearn.feature_extraction.text import CountVectorizer\n",
    "from nltk.stem.snowball import EnglishStemmer\n",
    "import sentencepiece\n",
    "import pandas as pd\n",
    "import numpy as np\n",
    "from sklearn.model_selection import train_test_split\n",
    "import tensorflow as tf\n",
    "import tensorflow_hub as hub\n",
    "from sklearn.model_selection import cross_val_score\n",
    "from sklearn.manifold import TSNE\n",
    "import matplotlib\n",
    "import matplotlib.pyplot as plt"
   ]
  },
  {
   "cell_type": "code",
   "execution_count": 1,
   "metadata": {},
   "outputs": [],
   "source": [
    "def embed(text):\n",
    "    print('Start')\n",
    "    text_list = list(text)\n",
    "    embed = hub.Module(\"https://tfhub.dev/google/universal-sentence-encoder/2\")\n",
    "    embeddings = embed(text_list)\n",
    "    print('Extracting embeddings...')\n",
    "    with tf.Session() as sess:\n",
    "        sess.run(tf.global_variables_initializer())\n",
    "        sess.run(tf.tables_initializer())\n",
    "        embd = sess.run(embeddings)\n",
    "    dim_vector = ['Dim_{}'.format(i) for i in range(embd.shape[1])]\n",
    "    df_return = pd.DataFrame(embd, columns = dim_vector)\n",
    "    return df_return"
   ]
  },
  {
   "cell_type": "code",
   "execution_count": 3,
   "metadata": {},
   "outputs": [],
   "source": [
    "#First we want to import the particular article that we want\n",
    "article = Article('https://www.cbc.ca/news/world/cocaine-bust-philadelphia-ship-1.5180447')\n",
    "article.download()\n",
    "article.parse()\n",
    "article_text=article.text"
   ]
  },
  {
   "cell_type": "code",
   "execution_count": 4,
   "metadata": {},
   "outputs": [],
   "source": [
    "#now we import all of the song Lyrics (this should probably be done in another python script)\n",
    "df_songs = pd.DataFrame(pd.read_csv('lyrics.csv'))"
   ]
  },
  {
   "cell_type": "code",
   "execution_count": 20,
   "metadata": {},
   "outputs": [
    {
     "data": {
      "text/html": [
       "<div>\n",
       "<style scoped>\n",
       "    .dataframe tbody tr th:only-of-type {\n",
       "        vertical-align: middle;\n",
       "    }\n",
       "\n",
       "    .dataframe tbody tr th {\n",
       "        vertical-align: top;\n",
       "    }\n",
       "\n",
       "    .dataframe thead th {\n",
       "        text-align: right;\n",
       "    }\n",
       "</style>\n",
       "<table border=\"1\" class=\"dataframe\">\n",
       "  <thead>\n",
       "    <tr style=\"text-align: right;\">\n",
       "      <th></th>\n",
       "      <th>index</th>\n",
       "      <th>song</th>\n",
       "      <th>year</th>\n",
       "      <th>artist</th>\n",
       "      <th>genre</th>\n",
       "      <th>lyrics</th>\n",
       "    </tr>\n",
       "  </thead>\n",
       "  <tbody>\n",
       "    <tr>\n",
       "      <th>0</th>\n",
       "      <td>0</td>\n",
       "      <td>ego-remix</td>\n",
       "      <td>2009</td>\n",
       "      <td>beyonce-knowles</td>\n",
       "      <td>Pop</td>\n",
       "      <td>Oh baby, how you doing?\\nYou know I'm gonna cu...</td>\n",
       "    </tr>\n",
       "    <tr>\n",
       "      <th>1</th>\n",
       "      <td>1</td>\n",
       "      <td>then-tell-me</td>\n",
       "      <td>2009</td>\n",
       "      <td>beyonce-knowles</td>\n",
       "      <td>Pop</td>\n",
       "      <td>playin' everything so easy,\\nit's like you see...</td>\n",
       "    </tr>\n",
       "    <tr>\n",
       "      <th>2</th>\n",
       "      <td>2</td>\n",
       "      <td>honesty</td>\n",
       "      <td>2009</td>\n",
       "      <td>beyonce-knowles</td>\n",
       "      <td>Pop</td>\n",
       "      <td>If you search\\nFor tenderness\\nIt isn't hard t...</td>\n",
       "    </tr>\n",
       "    <tr>\n",
       "      <th>3</th>\n",
       "      <td>3</td>\n",
       "      <td>you-are-my-rock</td>\n",
       "      <td>2009</td>\n",
       "      <td>beyonce-knowles</td>\n",
       "      <td>Pop</td>\n",
       "      <td>Oh oh oh I, oh oh oh I\\n[Verse 1:]\\nIf I wrote...</td>\n",
       "    </tr>\n",
       "    <tr>\n",
       "      <th>4</th>\n",
       "      <td>4</td>\n",
       "      <td>black-culture</td>\n",
       "      <td>2009</td>\n",
       "      <td>beyonce-knowles</td>\n",
       "      <td>Pop</td>\n",
       "      <td>Party the people, the people the party it's po...</td>\n",
       "    </tr>\n",
       "  </tbody>\n",
       "</table>\n",
       "</div>"
      ],
      "text/plain": [
       "   index             song  year           artist genre  \\\n",
       "0      0        ego-remix  2009  beyonce-knowles   Pop   \n",
       "1      1     then-tell-me  2009  beyonce-knowles   Pop   \n",
       "2      2          honesty  2009  beyonce-knowles   Pop   \n",
       "3      3  you-are-my-rock  2009  beyonce-knowles   Pop   \n",
       "4      4    black-culture  2009  beyonce-knowles   Pop   \n",
       "\n",
       "                                              lyrics  \n",
       "0  Oh baby, how you doing?\\nYou know I'm gonna cu...  \n",
       "1  playin' everything so easy,\\nit's like you see...  \n",
       "2  If you search\\nFor tenderness\\nIt isn't hard t...  \n",
       "3  Oh oh oh I, oh oh oh I\\n[Verse 1:]\\nIf I wrote...  \n",
       "4  Party the people, the people the party it's po...  "
      ]
     },
     "execution_count": 20,
     "metadata": {},
     "output_type": "execute_result"
    }
   ],
   "source": [
    "#df_songs.shape\n",
    "df_songs_beyonce = df_songs[df_songs['artist'] == 'beyonce-knowles']\n",
    "df_songs_beyonce.head()\n"
   ]
  },
  {
   "cell_type": "code",
   "execution_count": 21,
   "metadata": {},
   "outputs": [],
   "source": [
    "df_songs_beyonce=df_songs_beyonce.dropna(subset=['lyrics'])"
   ]
  },
  {
   "cell_type": "code",
   "execution_count": 22,
   "metadata": {},
   "outputs": [
    {
     "data": {
      "text/plain": [
       "\"Oh baby, how you doing?\\nYou know I'm gonna cut right to the chase\\nSome women were made but me, myself\\nI like to think that I was created for a special purpose\\nYou know, what's more special than you? You feel me\\nIt's on baby, let's get lost\\nYou don't need to call into work 'cause you're the boss\\nFor real, want you to show me how you feel\\nI consider myself lucky, that's a big deal\\nWhy? Well, you got the key to my heart\\nBut you ain't gonna need it, I'd rather you open up my body\\nAnd show me secrets, you didn't know was inside\\nNo need for me to lie\\nIt's too big, it's too wide\\nIt's too strong, it won't fit\\nIt's too much, it's too tough\\nHe talk like this 'cause he can back it up\\nHe got a big ego, such a huge ego\\nI love his big ego, it's too much\\nHe walk like this 'cause he can back it up\\nUsually I'm humble, right now I don't choose\\nYou can leave with me or you could have the blues\\nSome call it arrogant, I call it confident\\nYou decide when you find on what I'm working with\\nDamn I know I'm killing you with them legs\\nBetter yet them thighs\\nMatter a fact it's my smile or maybe my eyes\\nBoy you a site to see, kind of something like me\\nIt's too big, it's too wide\\nIt's too strong, it won't fit\\nIt's too much, it's too tough\\nI talk like this 'cause I can back it up\\nI got a big ego, such a huge ego\\nBut he love my big ego, it's too much\\nI walk like this 'cause I can back it up\\nI, I walk like this 'cause I can back it up\\nI, I talk like this 'cause I can back it up\\nI, I can back it up, I can back it up\\nI walk like this 'cause I can back it up\\nIt's too big, it's too wide\\nIt's too strong, it won't fit\\nIt's too much, it's too tough\\nHe talk like this 'cause he can back it up\\nHe got a big ego, such a huge ego, such a huge ego\\nI love his big ego, it's too much\\nHe walk like this 'cause he can back it up\\nEgo so big, you must admit\\nI got every reason to feel like I'm that bitch\\nEgo so strong, if you ain't know\\nI don't need no beat, I can sing it with piano\""
      ]
     },
     "execution_count": 22,
     "metadata": {},
     "output_type": "execute_result"
    }
   ],
   "source": [
    "df_songs_beyonce.iloc[0,5]"
   ]
  },
  {
   "cell_type": "code",
   "execution_count": 23,
   "metadata": {},
   "outputs": [
    {
     "data": {
      "text/plain": [
       "\"Oh baby, how you doing?\\nYou know I'm gonna cut right to the chase\\nSome women were made but me, myself\\nI like to think that I was created for a special purpose\\nYou know, what's more special than you? You feel me\\nIt's on baby, let's get lost\\nYou don't need to call into work 'cause you're the boss\\nFor real, want you to show me how you feel\\nI consider myself lucky, that's a big deal\\nWhy? Well, you got the key to my heart\\nBut you ain't gonna need it, I'd rather you open up my body\\nAnd show me secrets, you didn't know was inside\\nNo need for me to lie\\nIt's too big, it's too wide\\nIt's too strong, it won't fit\\nIt's too much, it's too tough\\nHe talk like this 'cause he can back it up\\nHe got a big ego, such a huge ego\\nI love his big ego, it's too much\\nHe walk like this 'cause he can back it up\\nUsually I'm humble, right now I don't choose\\nYou can leave with me or you could have the blues\\nSome call it arrogant, I call it confident\\nYou decide when you find on what I'm working with\\nDamn I know I'm killing you with them legs\\nBetter yet them thighs\\nMatter a fact it's my smile or maybe my eyes\\nBoy you a site to see, kind of something like me\\nIt's too big, it's too wide\\nIt's too strong, it won't fit\\nIt's too much, it's too tough\\nI talk like this 'cause I can back it up\\nI got a big ego, such a huge ego\\nBut he love my big ego, it's too much\\nI walk like this 'cause I can back it up\\nI, I walk like this 'cause I can back it up\\nI, I talk like this 'cause I can back it up\\nI, I can back it up, I can back it up\\nI walk like this 'cause I can back it up\\nIt's too big, it's too wide\\nIt's too strong, it won't fit\\nIt's too much, it's too tough\\nHe talk like this 'cause he can back it up\\nHe got a big ego, such a huge ego, such a huge ego\\nI love his big ego, it's too much\\nHe walk like this 'cause he can back it up\\nEgo so big, you must admit\\nI got every reason to feel like I'm that bitch\\nEgo so strong, if you ain't know\\nI don't need no beat, I can sing it with piano\""
      ]
     },
     "execution_count": 23,
     "metadata": {},
     "output_type": "execute_result"
    }
   ],
   "source": [
    "df_songs_beyonce_lyrics= list(df_songs_beyonce.iloc[:,5])\n",
    "df_songs_beyonce_lyrics[0]"
   ]
  },
  {
   "cell_type": "code",
   "execution_count": 24,
   "metadata": {},
   "outputs": [],
   "source": [
    "#now the at we have the songs in, we should drop all stop words, get rid of the /n, and drop any nans\n",
    "i=0\n",
    "\n",
    "for i in range(len(df_songs_beyonce_lyrics)):\n",
    "    df_songs_beyonce_lyrics[i] = df_songs_beyonce_lyrics[i].replace('\\n', ' ')"
   ]
  },
  {
   "cell_type": "markdown",
   "metadata": {},
   "source": [
    "Implement stemming after"
   ]
  },
  {
   "cell_type": "code",
   "execution_count": 25,
   "metadata": {},
   "outputs": [],
   "source": [
    "stemmer = EnglishStemmer()\n",
    "analyzer = CountVectorizer().build_analyzer()\n",
    "\n",
    "def stemmed_words(document):\n",
    "    return (stemmer.stem(x) for x in analyzer(document))"
   ]
  },
  {
   "cell_type": "code",
   "execution_count": 26,
   "metadata": {},
   "outputs": [],
   "source": [
    "# cv_stemmed=CountVectorizer(stop_words = 'english', analyzer=stemmed_words,min_df = 5, max_df=0.9)\n",
    "# cv_stemmed_lyrics=cv_stemmed.fit(df_song_lyrics)\n",
    "# cv_stemmed_lyrics=cv_stemmed.transform(df_song_lyrics)\n",
    "# cv_stemmed_lyrics.shape"
   ]
  },
  {
   "cell_type": "markdown",
   "metadata": {},
   "source": [
    "Note below we have the version where we are taking TFIDF Weights. In reality, this would be harder to implement. In practice, we will use a pretrained model that will be able to return a vector to compare similarities. Also, we will want to restrict the size of our data in order to make comparisons feasible."
   ]
  },
  {
   "cell_type": "code",
   "execution_count": 27,
   "metadata": {},
   "outputs": [],
   "source": [
    "#\n",
    "# vectorizer = TfidfTransformer()\n",
    "# # tokenize and build vocab\n",
    "# vectorizer.fit(cv_stemmed_lyrics)\n",
    "# tf_idf_lyrics_vector = vectorizer.transform(cv_stemmed_lyrics)"
   ]
  },
  {
   "cell_type": "code",
   "execution_count": 28,
   "metadata": {},
   "outputs": [],
   "source": [
    "# # summarize the big vector matrix\n",
    "# df_idf = pd.DataFrame(vectorizer.idf_, index=cv_stemmed.get_feature_names(),columns=[\"tf_idf_weights\"])\n",
    "# print(tf_idf_lyrics_vector.shape)\n",
    "# print(df_idf.sort_values(by=['tf_idf_weights'])[::-1][0:20])\n",
    "# print(df_idf.sort_values(by=['tf_idf_weights'])[0:20])"
   ]
  },
  {
   "cell_type": "code",
   "execution_count": 31,
   "metadata": {},
   "outputs": [],
   "source": [
    "#df_songs_beyonce_lyrics = pd.DataFrame(df_songs_beyonce_lyrics)\n",
    "#df_songs_beyonce_lyrics[0]"
   ]
  },
  {
   "cell_type": "markdown",
   "metadata": {},
   "source": [
    "Implement embedding below"
   ]
  },
  {
   "cell_type": "code",
   "execution_count": null,
   "metadata": {},
   "outputs": [
    {
     "name": "stdout",
     "output_type": "stream",
     "text": [
      "Start\n",
      "INFO:tensorflow:Saver not created because there are no variables in the graph to restore\n"
     ]
    },
    {
     "name": "stderr",
     "output_type": "stream",
     "text": [
      "I0820 22:17:55.914290 4677940672 saver.py:1483] Saver not created because there are no variables in the graph to restore\n"
     ]
    },
    {
     "name": "stdout",
     "output_type": "stream",
     "text": [
      "Extracting embeddings...\n"
     ]
    }
   ],
   "source": [
    "df_songs_beyonce_lyrics_embed = embed(df_songs_beyonce_lyrics)"
   ]
  },
  {
   "cell_type": "code",
   "execution_count": null,
   "metadata": {},
   "outputs": [],
   "source": [
    "df_songs_beyonce_lyrics_embed.head()"
   ]
  },
  {
   "cell_type": "markdown",
   "metadata": {},
   "source": [
    "Below we start to get the comparison to the article"
   ]
  },
  {
   "cell_type": "code",
   "execution_count": null,
   "metadata": {},
   "outputs": [],
   "source": [
    "#forthehub"
   ]
  },
  {
   "cell_type": "code",
   "execution_count": null,
   "metadata": {},
   "outputs": [],
   "source": [
    "# cv_stemmed_article = cv_stemmed.transform(list(article_text))\n",
    "# tf_idf_article_vector = vectorizer.transform(cv_stemmed_article)\n",
    "# print(tf_idf_article_vector.shape)"
   ]
  },
  {
   "cell_type": "code",
   "execution_count": null,
   "metadata": {},
   "outputs": [],
   "source": [
    "# print(tf_idf_article_vector)"
   ]
  }
 ],
 "metadata": {
  "kernelspec": {
   "display_name": "Python 3",
   "language": "python",
   "name": "python3"
  },
  "language_info": {
   "codemirror_mode": {
    "name": "ipython",
    "version": 3
   },
   "file_extension": ".py",
   "mimetype": "text/x-python",
   "name": "python",
   "nbconvert_exporter": "python",
   "pygments_lexer": "ipython3",
   "version": "3.7.1"
  }
 },
 "nbformat": 4,
 "nbformat_minor": 2
}
